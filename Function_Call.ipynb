{
 "cells": [
  {
   "cell_type": "code",
   "execution_count": 8,
   "metadata": {},
   "outputs": [],
   "source": [
    "from functions_git import *\n"
   ]
  },
  {
   "cell_type": "code",
   "execution_count": 9,
   "metadata": {},
   "outputs": [
    {
     "ename": "TypeError",
     "evalue": "indexInsurance() got multiple values for argument 'adjustit'",
     "output_type": "error",
     "traceback": [
      "\u001b[1;31m---------------------------------------------------------------------------\u001b[0m",
      "\u001b[1;31mTypeError\u001b[0m                                 Traceback (most recent call last)",
      "\u001b[1;32m<ipython-input-9-1ba9b8226129>\u001b[0m in \u001b[0;36m<module>\u001b[1;34m()\u001b[0m\n\u001b[0;32m     67\u001b[0m                           \u001b[0mindexit\u001b[0m \u001b[1;33m=\u001b[0m \u001b[0mindexit\u001b[0m\u001b[1;33m,\u001b[0m\u001b[1;33m\u001b[0m\u001b[0m\n\u001b[0;32m     68\u001b[0m                           \u001b[0mmethod\u001b[0m \u001b[1;33m=\u001b[0m \u001b[0mmethod\u001b[0m\u001b[1;33m,\u001b[0m\u001b[1;33m\u001b[0m\u001b[0m\n\u001b[1;32m---> 69\u001b[1;33m                           difference = difference) \n\u001b[0m\u001b[0;32m     70\u001b[0m \u001b[1;33m\u001b[0m\u001b[0m\n\u001b[0;32m     71\u001b[0m \u001b[1;31m# Return order:\u001b[0m\u001b[1;33m\u001b[0m\u001b[1;33m\u001b[0m\u001b[0m\n",
      "\u001b[1;31mTypeError\u001b[0m: indexInsurance() got multiple values for argument 'adjustit'"
     ]
    }
   ],
   "source": [
    "\"\"\"\n",
    "Created on Fri Nov 17 22:19:03 2017\n",
    "\n",
    "This script allows you to change parameters and call the functions. The working directory is set in the functions script while this is being tinkered with. \n",
    "    \n",
    "    \n",
    "*** To check rain-index outputs for accuracy set the baseline years from 1948 to 2016 and check the matching outputs from this site:\n",
    "    \n",
    "    https://prodwebnlb.rma.usda.gov/apps/prf#\n",
    "    \n",
    "@author: Travis\n",
    "\"\"\"\n",
    "%matplotlib qt\n",
    "#mpld3.enable_notebook()\n",
    "\n",
    "import warnings\n",
    "warnings.filterwarnings(\"ignore\")\n",
    "\n",
    "############################ Normal NOAA Method ###############################\n",
    "#rasterpath = \"e:\\\\data\\\\droughtindices\\\\noaa\\\\nad83\\\\raw\"\n",
    "##rasterpath = \"f:\\\\data\\\\droughtindices\\\\noaa\\\\nad83\\\\raw\"\n",
    "#method = 1 # Method 1 is the present way of calculating triggers and magnitudes\n",
    "#adjustit = False\n",
    "#standardizeit = False\n",
    "#indexit = True\n",
    "\n",
    "####################### Test methods for drought indices ######################\n",
    "#rasterpath = r'e:\\data\\droughtindices\\palmer\\pdsi\\nad83'\n",
    "rasterpath = r'd:\\data\\droughtindices\\spei\\albers\\6month'\n",
    "proj = 'albers'\n",
    "#rasterpath = r'E:\\data\\droughtindices\\grace\\nad83\\rz\\monthly\\quarteres'\n",
    "method = 2 # method 2 set strike levels based on matching probability of occurrence with the RMA index\n",
    "adjustit = True\n",
    "standardizeit = True\n",
    "indexit = False\n",
    "\n",
    "############### Argument Definitions ##########################################\n",
    "actuarialyear = 2018 \n",
    "baselineyear = 1948\n",
    "baselinendyear = 2016   \n",
    "startyear = 2000\n",
    "endyear = 2017\n",
    "productivity = 1 \n",
    "strike = .7\n",
    "acres = 500\n",
    "allocation = .5\n",
    "difference = 0 # 0 = indemnities, 1 = net payouts, 2 = lossratios \n",
    "\n",
    "\n",
    "#################### Function Call #################################################################\n",
    "[insurance_package_all, \n",
    " insurance_package_average, \n",
    " index_package_all,\n",
    " index_package,\n",
    " cid,\n",
    " coords] = indexInsurance(rasterpath,\n",
    "                          proj,\n",
    "                          actuarialyear,\n",
    "                          startyear, endyear,\n",
    "                          baselineyear,baselinendyear, \n",
    "                          productivity,\n",
    "                          strike,\n",
    "                          acres,\n",
    "                          allocation,\n",
    "                          adjustit = adjustit,\n",
    "                          standardizeit = standardizeit,\n",
    "                          indexit = indexit,\n",
    "                          method = method,\n",
    "                          difference = difference) \n",
    "\n",
    "# Return order:\n",
    "#insurance_package_all = [producerpremiums,indemnities]\n",
    "#insurance_package_average = [meanppremium,meanindemnity]\n",
    "#index_package_all = [frequencyrays,pcfrays]\n",
    "#index_package = [frequencysum,meanpcf]"
   ]
  }
 ],
 "metadata": {
  "celltoolbar": "Slideshow",
  "kernelspec": {
   "display_name": "Python 3",
   "language": "python",
   "name": "python3"
  },
  "language_info": {
   "codemirror_mode": {
    "name": "ipython",
    "version": 3
   },
   "file_extension": ".py",
   "mimetype": "text/x-python",
   "name": "python",
   "nbconvert_exporter": "python",
   "pygments_lexer": "ipython3",
   "version": "3.6.4"
  }
 },
 "nbformat": 4,
 "nbformat_minor": 2
}
