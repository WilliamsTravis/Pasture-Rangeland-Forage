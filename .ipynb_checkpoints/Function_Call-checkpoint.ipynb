{
 "cells": [
  {
   "cell_type": "code",
   "execution_count": 1,
   "metadata": {},
   "outputs": [
    {
     "name": "stdout",
     "output_type": "stream",
     "text": [
      "GDAL version:2020200\n"
     ]
    }
   ],
   "source": [
    "from functions_git import *\n"
   ]
  },
  {
   "cell_type": "code",
   "execution_count": 2,
   "metadata": {},
   "outputs": [
    {
     "name": "stdout",
     "output_type": "stream",
     "text": [
      "Converting raster to numpy array...\n"
     ]
    },
    {
     "ename": "IndexError",
     "evalue": "list index out of range",
     "output_type": "error",
     "traceback": [
      "\u001b[1;31m---------------------------------------------------------------------------\u001b[0m",
      "\u001b[1;31mIndexError\u001b[0m                                Traceback (most recent call last)",
      "\u001b[1;32m<ipython-input-2-dbd2f31b5ef0>\u001b[0m in \u001b[0;36m<module>\u001b[1;34m()\u001b[0m\n\u001b[0;32m     48\u001b[0m \u001b[1;33m\u001b[0m\u001b[0m\n\u001b[0;32m     49\u001b[0m \u001b[1;31m#################### Function Call #################################################################\u001b[0m\u001b[1;33m\u001b[0m\u001b[1;33m\u001b[0m\u001b[0m\n\u001b[1;32m---> 50\u001b[1;33m \u001b[1;33m[\u001b[0m\u001b[0minsurance_package_all\u001b[0m\u001b[1;33m,\u001b[0m \u001b[0minsurance_package_average\u001b[0m\u001b[1;33m,\u001b[0m \u001b[0mindex_package_all\u001b[0m\u001b[1;33m,\u001b[0m\u001b[0mindex_package\u001b[0m\u001b[1;33m,\u001b[0m\u001b[0mcid\u001b[0m\u001b[1;33m,\u001b[0m\u001b[0mcoords\u001b[0m\u001b[1;33m]\u001b[0m \u001b[1;33m=\u001b[0m \u001b[0mindexInsurance\u001b[0m\u001b[1;33m(\u001b[0m\u001b[0mrasterpath\u001b[0m\u001b[1;33m,\u001b[0m \u001b[0mactuarialyear\u001b[0m\u001b[1;33m,\u001b[0m \u001b[0mstartyear\u001b[0m\u001b[1;33m,\u001b[0m\u001b[0mendyear\u001b[0m\u001b[1;33m,\u001b[0m \u001b[0mbaselineyear\u001b[0m\u001b[1;33m,\u001b[0m\u001b[0mbaselinendyear\u001b[0m\u001b[1;33m,\u001b[0m \u001b[0mproductivity\u001b[0m\u001b[1;33m,\u001b[0m \u001b[0mstrike\u001b[0m\u001b[1;33m,\u001b[0m \u001b[0macres\u001b[0m\u001b[1;33m,\u001b[0m \u001b[0mallocation\u001b[0m\u001b[1;33m,\u001b[0m \u001b[0madjustit\u001b[0m \u001b[1;33m=\u001b[0m \u001b[0madjustit\u001b[0m\u001b[1;33m,\u001b[0m\u001b[0mstandardizeit\u001b[0m \u001b[1;33m=\u001b[0m \u001b[0mstandardizeit\u001b[0m\u001b[1;33m,\u001b[0m \u001b[0mindexit\u001b[0m \u001b[1;33m=\u001b[0m \u001b[0mindexit\u001b[0m\u001b[1;33m,\u001b[0m \u001b[0mmethod\u001b[0m \u001b[1;33m=\u001b[0m \u001b[0mmethod\u001b[0m\u001b[1;33m,\u001b[0m \u001b[0mdifference\u001b[0m \u001b[1;33m=\u001b[0m \u001b[0mdifference\u001b[0m\u001b[1;33m)\u001b[0m\u001b[1;33m\u001b[0m\u001b[0m\n\u001b[0m\u001b[0;32m     51\u001b[0m \u001b[1;33m\u001b[0m\u001b[0m\n\u001b[0;32m     52\u001b[0m \u001b[1;31m# Return order:\u001b[0m\u001b[1;33m\u001b[0m\u001b[1;33m\u001b[0m\u001b[0m\n",
      "\u001b[1;32m~\\Github\\Pasture-Rangeland-Forage\\functions_git.py\u001b[0m in \u001b[0;36mindexInsurance\u001b[1;34m(rasterpath, actuarialyear, startyear, endyear, baselineyear, baselinendyear, productivity, strike, acres, allocation, adjustit, standardizeit, indexit, method, difference)\u001b[0m\n\u001b[0;32m    296\u001b[0m     \u001b[1;31m###########################################################################\u001b[0m\u001b[1;33m\u001b[0m\u001b[1;33m\u001b[0m\u001b[0m\n\u001b[0;32m    297\u001b[0m     \u001b[1;31m# Load in the test index -  The geometry and projection are there for writing rasters\u001b[0m\u001b[1;33m\u001b[0m\u001b[1;33m\u001b[0m\u001b[0m\n\u001b[1;32m--> 298\u001b[1;33m     \u001b[1;33m[\u001b[0m\u001b[0mindexlist\u001b[0m\u001b[1;33m,\u001b[0m\u001b[0mindexgeo\u001b[0m\u001b[1;33m,\u001b[0m\u001b[0mindexproj\u001b[0m\u001b[1;33m]\u001b[0m \u001b[1;33m=\u001b[0m \u001b[0mreadRasters\u001b[0m\u001b[1;33m(\u001b[0m\u001b[0mrasterpath\u001b[0m\u001b[1;33m,\u001b[0m\u001b[1;33m-\u001b[0m\u001b[1;36m9999.\u001b[0m\u001b[1;33m)\u001b[0m\u001b[1;33m\u001b[0m\u001b[0m\n\u001b[0m\u001b[0;32m    299\u001b[0m     \u001b[0mindexlist\u001b[0m \u001b[1;33m=\u001b[0m \u001b[1;33m[\u001b[0m\u001b[1;33m[\u001b[0m\u001b[0mindex\u001b[0m\u001b[1;33m[\u001b[0m\u001b[1;36m0\u001b[0m\u001b[1;33m]\u001b[0m\u001b[1;33m,\u001b[0m\u001b[0mindex\u001b[0m\u001b[1;33m[\u001b[0m\u001b[1;36m1\u001b[0m\u001b[1;33m]\u001b[0m\u001b[1;33m*\u001b[0m\u001b[0mmask\u001b[0m\u001b[1;33m]\u001b[0m \u001b[1;32mfor\u001b[0m \u001b[0mindex\u001b[0m \u001b[1;32min\u001b[0m \u001b[0mindexlist\u001b[0m\u001b[1;33m]\u001b[0m\u001b[1;33m\u001b[0m\u001b[0m\n\u001b[0;32m    300\u001b[0m     \u001b[0mindexname\u001b[0m \u001b[1;33m=\u001b[0m \u001b[0mindexlist\u001b[0m\u001b[1;33m[\u001b[0m\u001b[1;36m0\u001b[0m\u001b[1;33m]\u001b[0m\u001b[1;33m[\u001b[0m\u001b[1;36m0\u001b[0m\u001b[1;33m]\u001b[0m\u001b[1;33m[\u001b[0m\u001b[1;33m:\u001b[0m\u001b[1;33m-\u001b[0m\u001b[1;36m7\u001b[0m\u001b[1;33m]\u001b[0m\u001b[1;33m\u001b[0m\u001b[0m\n",
      "\u001b[1;32m~\\Github\\Pasture-Rangeland-Forage\\functions_git.py\u001b[0m in \u001b[0;36mreadRasters\u001b[1;34m(rasterpath, navalue)\u001b[0m\n\u001b[0;32m   1043\u001b[0m     \u001b[0mfiles\u001b[0m \u001b[1;33m=\u001b[0m \u001b[0mglob\u001b[0m\u001b[1;33m.\u001b[0m\u001b[0mglob\u001b[0m\u001b[1;33m(\u001b[0m\u001b[0mrasterpath\u001b[0m\u001b[1;33m+\u001b[0m\u001b[1;34m'*.tif'\u001b[0m\u001b[1;33m)\u001b[0m\u001b[1;33m\u001b[0m\u001b[0m\n\u001b[0;32m   1044\u001b[0m     \u001b[0mnames\u001b[0m \u001b[1;33m=\u001b[0m \u001b[1;33m[\u001b[0m\u001b[0mfiles\u001b[0m\u001b[1;33m[\u001b[0m\u001b[0mi\u001b[0m\u001b[1;33m]\u001b[0m\u001b[1;33m[\u001b[0m\u001b[0mlen\u001b[0m\u001b[1;33m(\u001b[0m\u001b[0mrasterpath\u001b[0m\u001b[1;33m)\u001b[0m\u001b[1;33m:\u001b[0m\u001b[1;33m]\u001b[0m \u001b[1;32mfor\u001b[0m \u001b[0mi\u001b[0m \u001b[1;32min\u001b[0m \u001b[0mrange\u001b[0m\u001b[1;33m(\u001b[0m\u001b[0mlen\u001b[0m\u001b[1;33m(\u001b[0m\u001b[0mfiles\u001b[0m\u001b[1;33m)\u001b[0m\u001b[1;33m)\u001b[0m\u001b[1;33m]\u001b[0m\u001b[1;33m\u001b[0m\u001b[0m\n\u001b[1;32m-> 1045\u001b[1;33m     \u001b[0msample\u001b[0m \u001b[1;33m=\u001b[0m \u001b[0mgdal\u001b[0m\u001b[1;33m.\u001b[0m\u001b[0mOpen\u001b[0m\u001b[1;33m(\u001b[0m\u001b[0mfiles\u001b[0m\u001b[1;33m[\u001b[0m\u001b[1;36m0\u001b[0m\u001b[1;33m]\u001b[0m\u001b[1;33m)\u001b[0m\u001b[1;33m\u001b[0m\u001b[0m\n\u001b[0m\u001b[0;32m   1046\u001b[0m     \u001b[0mgeometry\u001b[0m \u001b[1;33m=\u001b[0m \u001b[0msample\u001b[0m\u001b[1;33m.\u001b[0m\u001b[0mGetGeoTransform\u001b[0m\u001b[1;33m(\u001b[0m\u001b[1;33m)\u001b[0m\u001b[1;33m\u001b[0m\u001b[0m\n\u001b[0;32m   1047\u001b[0m     \u001b[0marrayref\u001b[0m \u001b[1;33m=\u001b[0m \u001b[0msample\u001b[0m\u001b[1;33m.\u001b[0m\u001b[0mGetProjection\u001b[0m\u001b[1;33m(\u001b[0m\u001b[1;33m)\u001b[0m\u001b[1;33m\u001b[0m\u001b[0m\n",
      "\u001b[1;31mIndexError\u001b[0m: list index out of range"
     ]
    }
   ],
   "source": [
    "\"\"\"\n",
    "Created on Fri Nov 17 22:19:03 2017\n",
    "\n",
    "This script allows you to change parameters and call the functions. The working directory is set in the functions script while this is being tinkered with. \n",
    "    \n",
    "    \n",
    "*** To check rain-index outputs for accuracy set the baseline years from 1948 to 2016 and check the matching outputs from this site:\n",
    "    \n",
    "    https://prodwebnlb.rma.usda.gov/apps/prf#\n",
    "    \n",
    "@author: Travis\n",
    "\"\"\"\n",
    "%matplotlib inline\n",
    "mpld3.enable_notebook()\n",
    "\n",
    "import warnings\n",
    "warnings.filterwarnings(\"ignore\")\n",
    "\n",
    "############################ Normal NOAA Method ###############################\n",
    "#rasterpath = \"e:\\\\data\\\\droughtindices\\\\noaa\\\\nad83\\\\raw\"\n",
    "##rasterpath = \"f:\\\\data\\\\droughtindices\\\\noaa\\\\nad83\\\\raw\"\n",
    "#method = 1 # Method 1 is the present way of calculating triggers and magnitudes\n",
    "#adjustit = False\n",
    "#standardizeit = False\n",
    "#indexit = True\n",
    "\n",
    "####################### Test methods for drought indices ######################\n",
    "#rasterpath = r'e:\\data\\droughtindices\\palmer\\pdsi\\nad83'\n",
    "rasterpath = r'd:\\data\\droughtindices\\spei\\nad83\\6month'\n",
    "#rasterpath = r'E:\\data\\droughtindices\\grace\\nad83\\rz\\monthly\\quarteres'\n",
    "method = 2 # method 2 set strike levels based on matching probability of occurrence with the RMA index\n",
    "adjustit = True\n",
    "standardizeit = True\n",
    "indexit = False\n",
    "\n",
    "############### Argument Definitions ##########################################\n",
    "actuarialyear = 2018 \n",
    "baselineyear = 1948\n",
    "baselinendyear = 2016   \n",
    "startyear = 2000\n",
    "endyear = 2017\n",
    "productivity = 1 \n",
    "strike = .7\n",
    "acres = 500\n",
    "allocation = .5\n",
    "difference = 0 # 0 = indemnities, 1 = net payouts, 2 = lossratios \n",
    "\n",
    "\n",
    "#################### Function Call #################################################################\n",
    "[insurance_package_all, insurance_package_average, index_package_all,index_package,cid,coords] = indexInsurance(rasterpath, actuarialyear, startyear,endyear, baselineyear,baselinendyear, productivity, strike, acres, allocation, adjustit = adjustit,standardizeit = standardizeit, indexit = indexit, method = method, difference = difference) \n",
    "\n",
    "# Return order:\n",
    "#insurance_package_all = [producerpremiums,indemnities]\n",
    "#insurance_package_average = [meanppremium,meanindemnity]\n",
    "#index_package_all = [frequencyrays,pcfrays]\n",
    "#index_package = [frequencysum,meanpcf]"
   ]
  }
 ],
 "metadata": {
  "kernelspec": {
   "display_name": "Python 3",
   "language": "python",
   "name": "python3"
  },
  "language_info": {
   "codemirror_mode": {
    "name": "ipython",
    "version": 3
   },
   "file_extension": ".py",
   "mimetype": "text/x-python",
   "name": "python",
   "nbconvert_exporter": "python",
   "pygments_lexer": "ipython3",
   "version": "3.6.4"
  }
 },
 "nbformat": 4,
 "nbformat_minor": 2
}
